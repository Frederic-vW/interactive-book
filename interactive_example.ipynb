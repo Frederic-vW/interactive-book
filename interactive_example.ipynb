{
 "cells": [
  {
   "cell_type": "markdown",
   "metadata": {},
   "source": [
    "# Interactive notebook example\n",
    "\n",
    "Make this notebook a gist and connect it to a website using nbinteract.  \n",
    "Technique explained in this [link](https://elc.github.io/posts/embed-interactive-notebooks/)"
   ]
  },
  {
   "cell_type": "code",
   "execution_count": null,
   "metadata": {},
   "outputs": [],
   "source": [
    "import numpy as np\n",
    "import matplotlib.pyplot as plt\n",
    "import matplotlib\n",
    "import ipywidgets as widgets\n",
    "from IPython.display import clear_output, display, HTML\n",
    "%matplotlib inline\n",
    "print(\"NumPy version: \", np.__version__)\n",
    "print(\"Matplotlib version: \", matplotlib.__version__)\n",
    "print(\"ipywidgets version: \", widgets.__version__)"
   ]
  },
  {
   "cell_type": "code",
   "execution_count": null,
   "metadata": {
    "code_folding": [
     0
    ]
   },
   "outputs": [],
   "source": [
    "def izh_neuron(nt, wu, dt, sd, a, b, c, d, v0, vpeak, I):\n",
    "    \"\"\"\n",
    "    Izhikevich models\n",
    "    \"\"\"\n",
    "    v = np.zeros(wu+nt)\n",
    "    u = np.zeros(wu+nt)\n",
    "    v[0] = v0\n",
    "    u[0] = b*v0\n",
    "    dW = np.sqrt(dt)*np.random.randn(wu+nt)\n",
    "    for t in range(1, wu+nt):\n",
    "        # input current only to a few:\n",
    "        a_xt = 0.04*v[t-1]*v[t-1] + 5.0*v[t-1] + 140.0 - u[t-1] + I\n",
    "        dv = a_xt*dt + sd*dW[t]\n",
    "        du = a*(b*v[t-1] - u[t-1])*dt\n",
    "        # integrate\n",
    "        u[t] = u[t-1] + du\n",
    "        v[t] = v[t-1] + dv\n",
    "        # spiking unit?\n",
    "        if (v[t] > vpeak):\n",
    "            u[t] += d\n",
    "            v[t] = c # vpeak\n",
    "    fig = plt.figure(figsize=(18,4))\n",
    "    plt.plot(dt*np.arange(nt), v[wu:], '-k', lw=2)\n",
    "    plt.ylim(-100,50)\n",
    "    plt.tight_layout()\n",
    "    plt.show()\n",
    "    #return u[wu:], v[wu:]"
   ]
  },
  {
   "cell_type": "markdown",
   "metadata": {},
   "source": [
    "## interactive widget\n",
    "\n",
    "[documentation](https://ipywidgets.readthedocs.io/en/latest/examples/Using%20Interact.html)"
   ]
  },
  {
   "cell_type": "code",
   "execution_count": null,
   "metadata": {
    "code_folding": [
     21
    ]
   },
   "outputs": [],
   "source": [
    "w_nt = widgets.IntSlider(value=10000, min=1000, max=100000, description='nt:') # number of samples\n",
    "w_wu = widgets.IntSlider(value=10000, min=1000, max=100000, description='wu:') # number of warm-up samples\n",
    "w_dt = widgets.FloatSlider(value=0.05, min=0.01, max=0.1, description='dt:') # sampling interval\n",
    "w_sd = widgets.FloatSlider(value=0.1, min=0, max=10, description='sd:') # noise\n",
    "w_a = widgets.FloatSlider(value=0.02, min=0, max=1.0, description='a:') # a\n",
    "w_b = widgets.FloatSlider(value=0.2, min=0, max=1.0, description='b:') # b\n",
    "w_c = widgets.FloatSlider(value=-50, min=-90, max=0, description='c:') # c\n",
    "w_d = widgets.FloatSlider(value=2, min=0, max=10, description='d:') # d\n",
    "w_v0 = widgets.FloatSlider(value=-70, min=-100, max=40, description='v0:') # v0\n",
    "w_vpeak = widgets.FloatSlider(value=30, min=-10, max=50, description='vpeak:') # vpeak\n",
    "w_I = widgets.FloatSlider(value=10, min=0, max=30, description='I:') # current\n",
    "# horizontally aligned sliders (0)\n",
    "h0 = widgets.HBox([w_nt, w_wu, w_dt])\n",
    "# horizontally aligned sliders (1)\n",
    "h1 = widgets.HBox([w_a, w_b, w_c, w_d])\n",
    "# horizontally aligned sliders (2)\n",
    "h2 = widgets.HBox([w_v0, w_vpeak])\n",
    "# horizontally aligned sliders (3)\n",
    "h3 = widgets.HBox([w_I, w_sd])\n",
    "# vertical box stacking h0..h3\n",
    "v = widgets.VBox([h0, h1, h2, h3], background_color='#EEE')\n",
    "params = {\n",
    "    'nt': w_nt, \n",
    "    'wu': w_wu, \n",
    "    'dt': w_dt, \n",
    "    'sd': w_sd, \n",
    "    'a': w_a, \n",
    "    'b': w_b, \n",
    "    'c': w_c, \n",
    "    'd': w_d, \n",
    "    'v0': w_v0, \n",
    "    'vpeak': w_vpeak, \n",
    "    'I': w_I, \n",
    "}\n",
    "out = widgets.interactive_output(izh_neuron, params)\n",
    "display(v, out)"
   ]
  },
  {
   "cell_type": "code",
   "execution_count": null,
   "metadata": {},
   "outputs": [],
   "source": [
    "'''\n",
    "w_nt = widgets.IntSlider(value=10000, min=1000, max=100000, description='nt:') # number of samples\n",
    "w_wu = widgets.IntSlider(value=10000, min=1000, max=100000, description='wu:') # number of warm-up samples\n",
    "w_dt = widgets.FloatSlider(value=0.05, min=0.01, max=0.1, description='dt:') # sampling interval\n",
    "w_sd = widgets.FloatSlider(value=0.1, min=0, max=10, description='sd:') # noise\n",
    "w_a = widgets.FloatSlider(value=0.02, min=0, max=1.0, description='a:') # a\n",
    "w_b = widgets.FloatSlider(value=0.2, min=0, max=1.0, description='b:') # b\n",
    "w_c = widgets.FloatSlider(value=-50, min=-90, max=0, description='c:') # c\n",
    "w_d = widgets.FloatSlider(value=2, min=0, max=10, description='d:') # d\n",
    "w_v0 = widgets.FloatSlider(value=-70, min=-100, max=40, description='v0:') # v0\n",
    "w_vpeak = widgets.FloatSlider(value=30, min=-10, max=50, description='vpeak:') # vpeak\n",
    "w_I = widgets.FloatSlider(value=10, min=0, max=30, description='I:') # current\n",
    "# horizontally aligned sliders (0)\n",
    "#h0 = widgets.HBox([w_nt, w_wu, w_dt])\n",
    "# horizontally aligned sliders (1)\n",
    "#h1 = widgets.HBox([w_a, w_b, w_c, w_d])\n",
    "# horizontally aligned sliders (2)\n",
    "#h2 = widgets.HBox([w_v0, w_vpeak])\n",
    "# horizontally aligned sliders (3)\n",
    "#h3 = widgets.HBox([w_I, w_sd])\n",
    "# vertical box stacking h0..h3\n",
    "#v = widgets.VBox([h0, h1, h2, h3], background_color='#EEE')\n",
    "params = {\n",
    "    'nt': w_nt, \n",
    "    'wu': w_wu, \n",
    "    'dt': w_dt, \n",
    "    'sd': w_sd, \n",
    "    'a': w_a, \n",
    "    'b': w_b, \n",
    "    'c': w_c, \n",
    "    'd': w_d, \n",
    "    'v0': w_v0, \n",
    "    'vpeak': w_vpeak, \n",
    "    'I': w_I, \n",
    "}\n",
    "widgets.interactive(izh_neuron, **params)\n",
    "#display(v, out)\n",
    "'''"
   ]
  },
  {
   "cell_type": "code",
   "execution_count": null,
   "metadata": {},
   "outputs": [],
   "source": [
    "#h0 = widgets.HBox([w_nt, w_wu, w_dt])\n",
    "#display(h0)"
   ]
  },
  {
   "cell_type": "code",
   "execution_count": null,
   "metadata": {},
   "outputs": [],
   "source": [
    "#w = widgets.interactive(izh_neuron, nt=25000, wu=500, dt=0.05, sd=(0.0,10.0), \n",
    "#                a=(0.02,2.0), b=(0.2,2.0), c=(-80,-10), d=(0.0,10.0), \n",
    "#                v0=(-80,-50), vpeak=(10,40), I=(0.0,30.0))\n",
    "#display(w)"
   ]
  },
  {
   "cell_type": "markdown",
   "metadata": {},
   "source": [
    "DONE."
   ]
  }
 ],
 "metadata": {
  "kernelspec": {
   "display_name": "Python 3",
   "language": "python",
   "name": "python3"
  },
  "language_info": {
   "codemirror_mode": {
    "name": "ipython",
    "version": 3
   },
   "file_extension": ".py",
   "mimetype": "text/x-python",
   "name": "python",
   "nbconvert_exporter": "python",
   "pygments_lexer": "ipython3",
   "version": "3.6.9"
  },
  "toc": {
   "base_numbering": 1,
   "nav_menu": {},
   "number_sections": true,
   "sideBar": true,
   "skip_h1_title": false,
   "title_cell": "Table of Contents",
   "title_sidebar": "Contents",
   "toc_cell": false,
   "toc_position": {},
   "toc_section_display": true,
   "toc_window_display": false
  },
  "varInspector": {
   "cols": {
    "lenName": 16,
    "lenType": 16,
    "lenVar": 40
   },
   "kernels_config": {
    "python": {
     "delete_cmd_postfix": "",
     "delete_cmd_prefix": "del ",
     "library": "var_list.py",
     "varRefreshCmd": "print(var_dic_list())"
    },
    "r": {
     "delete_cmd_postfix": ") ",
     "delete_cmd_prefix": "rm(",
     "library": "var_list.r",
     "varRefreshCmd": "cat(var_dic_list()) "
    }
   },
   "types_to_exclude": [
    "module",
    "function",
    "builtin_function_or_method",
    "instance",
    "_Feature"
   ],
   "window_display": false
  }
 },
 "nbformat": 4,
 "nbformat_minor": 4
}
